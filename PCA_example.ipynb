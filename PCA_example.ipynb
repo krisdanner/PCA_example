{
  "nbformat": 4,
  "nbformat_minor": 0,
  "metadata": {
    "colab": {
      "provenance": [],
      "mount_file_id": "12igynUURjW8UP-wj7qeyuf2lKPiRKXTr",
      "authorship_tag": "ABX9TyNi/CEIT0hQFHrblqT0QTNu",
      "include_colab_link": true
    },
    "kernelspec": {
      "name": "python3",
      "display_name": "Python 3"
    },
    "language_info": {
      "name": "python"
    }
  },
  "cells": [
    {
      "cell_type": "markdown",
      "metadata": {
        "id": "view-in-github",
        "colab_type": "text"
      },
      "source": [
        "<a href=\"https://colab.research.google.com/github/krisdanner/PCA_example/blob/main/PCA_example.ipynb\" target=\"_parent\"><img src=\"https://colab.research.google.com/assets/colab-badge.svg\" alt=\"Open In Colab\"/></a>"
      ]
    },
    {
      "cell_type": "code",
      "execution_count": null,
      "metadata": {
        "colab": {
          "base_uri": "https://localhost:8080/"
        },
        "id": "oZU_1l0W7m2I",
        "outputId": "a70fe31a-d371-482f-f72a-aebcfea509ee"
      },
      "outputs": [
        {
          "output_type": "stream",
          "name": "stdout",
          "text": [
            "   age           job  marital  education default  balance housing loan  \\\n",
            "0   58    management  married   tertiary      no     2143     yes   no   \n",
            "1   44    technician   single  secondary      no       29     yes   no   \n",
            "2   33  entrepreneur  married  secondary      no        2     yes  yes   \n",
            "3   47   blue-collar  married    unknown      no     1506     yes   no   \n",
            "4   33       unknown   single    unknown      no        1      no   no   \n",
            "\n",
            "   contact  day month  duration  campaign  pdays  previous poutcome   y  \n",
            "0  unknown    5   may       261         1     -1         0  unknown  no  \n",
            "1  unknown    5   may       151         1     -1         0  unknown  no  \n",
            "2  unknown    5   may        76         1     -1         0  unknown  no  \n",
            "3  unknown    5   may        92         1     -1         0  unknown  no  \n",
            "4  unknown    5   may       198         1     -1         0  unknown  no  \n",
            "<class 'pandas.core.frame.DataFrame'>\n",
            "Int64Index: 45211 entries, 0 to 45210\n",
            "Data columns (total 17 columns):\n",
            " #   Column     Non-Null Count  Dtype \n",
            "---  ------     --------------  ----- \n",
            " 0   age        45211 non-null  int64 \n",
            " 1   job        45211 non-null  object\n",
            " 2   marital    45211 non-null  object\n",
            " 3   education  45211 non-null  object\n",
            " 4   default    45211 non-null  object\n",
            " 5   balance    45211 non-null  int64 \n",
            " 6   housing    45211 non-null  object\n",
            " 7   loan       45211 non-null  object\n",
            " 8   contact    45211 non-null  object\n",
            " 9   day        45211 non-null  int64 \n",
            " 10  month      45211 non-null  object\n",
            " 11  duration   45211 non-null  int64 \n",
            " 12  campaign   45211 non-null  int64 \n",
            " 13  pdays      45211 non-null  int64 \n",
            " 14  previous   45211 non-null  int64 \n",
            " 15  poutcome   45211 non-null  object\n",
            " 16  y          45211 non-null  object\n",
            "dtypes: int64(7), object(10)\n",
            "memory usage: 6.2+ MB\n",
            "None\n",
            "            count         mean          std     min    25%    50%     75%  \\\n",
            "age       45211.0    40.936210    10.618762    18.0   33.0   39.0    48.0   \n",
            "balance   45211.0  1362.272058  3044.765829 -8019.0   72.0  448.0  1428.0   \n",
            "day       45211.0    15.806419     8.322476     1.0    8.0   16.0    21.0   \n",
            "duration  45211.0   258.163080   257.527812     0.0  103.0  180.0   319.0   \n",
            "campaign  45211.0     2.763841     3.098021     1.0    1.0    2.0     3.0   \n",
            "pdays     45211.0    40.197828   100.128746    -1.0   -1.0   -1.0    -1.0   \n",
            "previous  45211.0     0.580323     2.303441     0.0    0.0    0.0     0.0   \n",
            "\n",
            "               max  \n",
            "age           95.0  \n",
            "balance   102127.0  \n",
            "day           31.0  \n",
            "duration    4918.0  \n",
            "campaign      63.0  \n",
            "pdays        871.0  \n",
            "previous     275.0  \n"
          ]
        }
      ],
      "source": [
        "import pandas as pd\n",
        "import numpy as np\n",
        "\n",
        "# Leitura dos dados\n",
        "\n",
        "df = pd.read_csv('/content/drive/MyDrive/ANA LICIA/bank_marketing_campaign.csv', sep=\";\")\n",
        "\n",
        "# Tratamento dos dados\n",
        "\n",
        "df.replace(',', '.')\n",
        "df = df.replace(r'^\\s*$', np.nan, regex=True)\n",
        "df = df.dropna(axis=0)\n",
        "\n",
        "# Exibição dos dados e informação\n",
        "\n",
        "print(df.head())\n",
        "print(df.info())\n",
        "print(df.describe().T)"
      ]
    }
  ]
}